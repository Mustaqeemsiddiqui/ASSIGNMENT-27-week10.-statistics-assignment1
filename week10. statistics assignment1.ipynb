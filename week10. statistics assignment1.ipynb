{
 "cells": [
  {
   "cell_type": "markdown",
   "id": "a3350505-404c-4269-802e-a5b538bf439d",
   "metadata": {},
   "source": [
    "Q1. What is Statistics?\n"
   ]
  },
  {
   "cell_type": "markdown",
   "id": "1212db20-a776-438f-84ae-1687103e4330",
   "metadata": {},
   "source": [
    "Ans:--- \n",
    "STATISTICS is the science of collecting ,organizing and analyzing the data"
   ]
  },
  {
   "cell_type": "markdown",
   "id": "f070f106-c5a3-4328-a9bf-f3b5ce5f3226",
   "metadata": {},
   "source": [
    "Q2. Define the different types of statistics and give an example of when each type might be used."
   ]
  },
  {
   "cell_type": "markdown",
   "id": "50f2f64b-3681-4c5c-a205-30fd470bbf55",
   "metadata": {},
   "source": [
    "Ans:---\n",
    "There are two types of statistics:\n",
    "1)DESCRIPTIVE statistics\n",
    "2)INFERENTIAL statistics"
   ]
  },
  {
   "cell_type": "markdown",
   "id": "d4aa228d-3a4f-4ceb-9288-a751f1998d62",
   "metadata": {},
   "source": [
    "Descriptive Statistics:\n",
    "\n",
    "Descriptive statistics involve summarizing and describing data in a meaningful way.  \n",
    "\n",
    "They provide a snapshot of the data and help in understanding its characteristics.\n",
    "\n",
    "Examples of descriptive statistics include measures such as mean, median, mode, range, standard deviation, and percentiles.\n",
    "\n",
    "Descriptive statistics can be used to analyze survey results, summarize the performance of students in a class, or describe the demographic characteristics of a population.\n"
   ]
  },
  {
   "cell_type": "markdown",
   "id": "b986f99e-3e6b-4fd0-854e-0807501c3bf1",
   "metadata": {},
   "source": [
    "Inferential Statistics:\n",
    "\n",
    "Inferential statistics involve making inferences or drawing conclusions about a population based on a sample of data. \n",
    "\n",
    "They are used to make generalizations and predictions about a larger group.\n",
    "\n",
    "For example, inferential statistics can be used to determine if there is a significant difference in test scores between two groups of students or to estimate the average income of a population based on a sample."
   ]
  },
  {
   "cell_type": "markdown",
   "id": "5db3fde9-fdc1-451f-9134-a0b8c5ac1202",
   "metadata": {},
   "source": [
    "Q3. What are the different types of data and how do they differ from each other? Provide an example of\n",
    "each type of data."
   ]
  },
  {
   "cell_type": "markdown",
   "id": "3bf9cf6d-c0e1-4158-8dd6-6f6c73c8eef5",
   "metadata": {},
   "source": [
    "Ans:---\n",
    "There are two type of data :\n",
    "\n",
    "1)QUANTITATIVE DATA: \n",
    "this data is numerical based data \n",
    "    In this data there are 4 types of data which are:\n",
    "    a)Discrete Data:\n",
    "Discrete data are numerical values that are separate and distinct. They represent counts or whole numbers that cannot be subdivided. Examples of discrete data include the number of students in a class, the number of cars in a parking lot, or the number of goals scored in a soccer match. Discrete data can only take specific values and do not have fractional or decimal components.\n",
    "\n",
    "b)Continuous Data:\n",
    "Continuous data can take any value within a range or interval. They can be measured at any level of precision and are often represented by real numbers. Examples of continuous data include height, weight, temperature, or time. Continuous data can take on any value within a specified range and can have fractional or decimal components.\n",
    "\n",
    "c)Ratio Data: \n",
    "Ratio data have all the properties of interval data (i.e., they have a specific order, and the intervals between values are equally spaced), but they also have a true zero point, indicating the absence of the attribute being measured. In ratio data, ratios and proportions between values are meaningful. Examples of ratio data include height, weight, time, or income.\n",
    "\n",
    "d)Interval Data:\n",
    "Interval data also have a specific order, and the intervals between values are equally spaced. However, unlike ratio data, interval data do not have a true zero point, meaning that the absence of a value does not indicate the absence of the attribute being measured. Examples of interval data include temperatures on the Celsius or Fahrenheit scale, calendar dates, or years.\n",
    "\n",
    "Ratio data have a true zero point, while interval data do not.\n",
    "\n",
    "2)QUALITATIVE DATA :\n",
    "this data is category based data \n",
    "    In this type of data there are 2 types of data which are:\n",
    "    \n",
    "a)Nominal Data:\n",
    "Nominal data represent categories or names that cannot be ranked or ordered. Each data point is assigned to a specific category without any inherent numerical value. Examples of nominal data include gender (male, female), eye color (blue, brown, green), or car models (Toyota, Ford, Honda). Nominal data can be represented using labels or codes, but mathematical operations like addition or multiplication are not applicable to this type of data.\n",
    "\n",
    "b)Ordinal Data:\n",
    "Ordinal data also represent categories, but they have a natural order or ranking. The categories can be arranged in a specific sequence based on their relative position or importance. However, the differences between the categories may not be uniformly measurable. Examples of ordinal data include ratings (poor, fair, good, excellent), educational levels (high school, bachelor's degree, master's degree), or survey responses (strongly disagree, disagree, neutral, agree, strongly agree). In ordinal data, the order matters, but the magnitude of differences between categories may not be precise."
   ]
  },
  {
   "cell_type": "markdown",
   "id": "1078449c-9f78-4fe2-886b-e1f4419a84c4",
   "metadata": {},
   "source": [
    "Q4. Categorise the following datasets with respect to quantitative and qualitative data types:\n",
    "(i) Grading in exam: A+, A, B+, B, C+, C, D, E\n",
    "(ii) Colour of mangoes: yellow, green, orange, red\n",
    "(iii) Height data of a class: [178.9, 179, 179.5, 176, 177.2, 178.3, 175.8,...]\n",
    "(iv) Number of mangoes exported by a farm: [500, 600, 478, 672, ...]"
   ]
  },
  {
   "cell_type": "markdown",
   "id": "7918321b-08e2-45f6-8f28-8f501fe22a9c",
   "metadata": {},
   "source": [
    "Ans:----\n",
    "\n",
    "(i) Grading in exam: A+, A, B+, B, C+, C, D, E\n",
    " Data Type: Qualitative (Ordinal)\n",
    " \n",
    "The grading system represents categories that have a specific order or ranking. However, the difference between the grades is not precisely measurable.\n",
    " \n",
    "\n",
    "(ii) Colour of mangoes: yellow, green, orange, red\n",
    "Data Type: Qualitative (Nominal\n",
    "\n",
    "The color of mangoes represents distinct categories or names without any inherent numerical value. There is no order or ranking among the colors.\n",
    "\n",
    "\n",
    "(iii) Height data of a class: [178.9, 179, 179.5, 176, 177.2, 178.3, 175.8,...]\n",
    "Data Type: Quantitative (Continuous)\n",
    "\n",
    "The height data represents numerical values that can take any value within a range. It is measured at a continuous level of precision and can have decimal components.\n",
    "\n",
    "\n",
    "(iv) Number of mangoes exported by a farm: [500, 600, 478, 672, ...]\n",
    "Data Type: Quantitative (Discrete)\n",
    "\n",
    "The number of mangoes represents discrete numerical values that are separate and distinct. It represents counts or whole numbers and cannot be subdivided.\n"
   ]
  },
  {
   "cell_type": "markdown",
   "id": "a1e673c0-3b0b-4732-8efe-d2398f2db1e3",
   "metadata": {},
   "source": [
    "Q5. Explain the concept of levels of measurement and give an example of a variable for each level."
   ]
  },
  {
   "cell_type": "markdown",
   "id": "1c2cb082-f8d0-4689-b92a-1bb4a71ab88e",
   "metadata": {},
   "source": [
    "Ans:---\n",
    "\n",
    "\n",
    "1)Nominal Level:\n",
    "\n",
    "The nominal level of measurement involves the simplest form of categorization. Variables at this level are qualitative and can be assigned to distinct categories or groups. However, there is no inherent order or magnitude associated with these categories. Examples of nominal variables include:\n",
    "\n",
    " examples  - Gender (e.g., male or female)\n",
    "           - Marital status (e.g., single, married, divorced)\n",
    "           - Eye color (e.g., blue, brown, green)\n",
    "           \n",
    "\n",
    "2)Ordinal Level:\n",
    "\n",
    "The ordinal level of measurement involves variables that not only categorize but also have a meaningful order or ranking associated with their categories. However, the differences between the categories are not necessarily uniform or quantifiable. Examples of ordinal variables include:\n",
    "\n",
    " examples  - Educational attainment (e.g., high school diploma,                  bachelor's degree, master's degree)\n",
    "           - Socioeconomic status (e.g., low, middle, high)\n",
    "           - Likert scale responses (e.g., strongly agree, agree,                neutral, disagree, strongly disagree)\n",
    "           \n",
    "\n",
    "3)Interval Level:\n",
    "\n",
    "The interval level of measurement involves variables where the differences between values are meaningful and consistent. In addition to an order or ranking, these variables have equal intervals between adjacent points. However, there is no true zero point or absence of the attribute being measured. Examples of interval variables include:\n",
    "\n",
    "   examples- Temperature in Celsius or Fahrenheit (e.g., 20°C, 30°C)\n",
    "           - Calendar dates (e.g., July 12, 2023)\n",
    "           - IQ scores (e.g., 100, 120, 140)\n",
    "           \n",
    "\n",
    "4)Ratio Level:\n",
    "\n",
    "The ratio level of measurement represents the most advanced level of measurement. Variables at this level have an inherent order, equal intervals, and a true zero point, which signifies the absence of the attribute being measured. Additionally, ratio variables support all mathematical operations. Examples of ratio variables include:\n",
    "\n",
    "  examples - Height in centimeters (e.g., 160 cm, 180 cm)\n",
    "           - Weight in kilograms (e.g., 60 kg, 80 kg)\n",
    "           - Income in rupees (e.g., rs5000, rs10,000)"
   ]
  },
  {
   "cell_type": "markdown",
   "id": "f729834d-20b0-4d51-b523-63bcbe1d2547",
   "metadata": {},
   "source": [
    "Q6. Why is it important to understand the level of measurement when analyzing data? Provide an\n",
    "example to illustrate your answer."
   ]
  },
  {
   "cell_type": "markdown",
   "id": "acff796d-eea6-4832-b698-27dd698f695e",
   "metadata": {},
   "source": [
    "Ans:---\n",
    "1)Understanding the level of measurement when analyzing data is important because it determines the appropriate statistical techniques that can be applied. Using the wrong analysis method can lead to incorrect interpretations.\n",
    "\n",
    "\n",
    "2)For example, let's say you have a survey dataset with three variables: \"Gender\" (nominal), \"Income\" (ratio), and \"Education Level\" (ordinal)."
   ]
  },
  {
   "cell_type": "markdown",
   "id": "039b78bc-8e54-4568-a9a9-baf8ac64f7d1",
   "metadata": {},
   "source": [
    "Q7. How nominal data type is different from ordinal data type."
   ]
  },
  {
   "cell_type": "markdown",
   "id": "47c88be0-6775-4bb2-8b44-7ff258c1cefe",
   "metadata": {},
   "source": [
    "Ans:---\n",
    "\n",
    "Nominal Data:\n",
    "\n",
    "1)Nominal data is characterized by categories or labels with no inherent order or numerical meaning.\n",
    "\n",
    "2)The categories are mutually exclusive and do not have a natural or logical sequence.\n",
    "\n",
    "3)Examples of nominal variables include gender (male, female), eye color (blue, brown, green), or marital status (single, married, divorced).\n",
    "\n",
    "4)Statistical operations applied to nominal data usually involve frequency counts, cross-tabulations, and chi-square tests to analyze the distribution or association between categories.\n",
    "\n",
    "\n",
    "\n",
    "Ordinal Data:\n",
    "\n",
    "1)Ordinal data represents categories with a meaningful order or hierarchy, but the numerical differences between categories may not be equal or well-defined.\n",
    "\n",
    "2)The categories can be arranged in a logical sequence based on some characteristic or attribute.\n",
    "\n",
    "3)Examples of ordinal variables include ratings or rankings (such as Likert scales), educational levels (elementary, middle, high school), or socioeconomic status (low, medium, high).\n",
    "\n",
    "4)Analyzing ordinal data may involve measures of central tendency (e.g., median) or ordinal regression to examine relationships or differences between categories.\n",
    "\n"
   ]
  },
  {
   "cell_type": "markdown",
   "id": "2bf33b33-8048-4a0b-8a62-b917017502dc",
   "metadata": {},
   "source": [
    "Q8. Which type of plot can be used to display data in terms of range?"
   ]
  },
  {
   "cell_type": "markdown",
   "id": "35f02798-4f20-4dcc-9f74-39f346feea3c",
   "metadata": {},
   "source": [
    "Ana:---\n",
    "To display data in terms of range, a box plot or a range plot can be used."
   ]
  },
  {
   "cell_type": "markdown",
   "id": "c5eb2757-4c40-4f8d-a4bf-58c826b348b3",
   "metadata": {},
   "source": [
    "Q9. Describe the difference between descriptive and inferential statistics. Give an example of each\n",
    "type of statistics and explain how they are used."
   ]
  },
  {
   "cell_type": "markdown",
   "id": "47deab88-edf1-410a-8daa-0fd4c0aa84cb",
   "metadata": {},
   "source": [
    "Ans:---\n",
    "Descriptive Statistics:\n",
    "\n",
    "Descriptive statistics involve summarizing and describing data in a meaningful way.\n",
    "\n",
    "They provide a snapshot of the data and help in understanding its characteristics.\n",
    "\n",
    "Examples of descriptive statistics include measures such as mean, median, mode, range, standard deviation, and percentiles.\n",
    "\n",
    "Descriptive statistics can be used to analyze survey results, summarize the performance of students in a class, or describe the demographic characteristics of a population.\n",
    "\n",
    "Inferential Statistics:\n",
    "\n",
    "Inferential statistics involve making inferences or drawing conclusions about a population based on a sample of data.\n",
    "\n",
    "They are used to make generalizations and predictions about a larger group.\n",
    "\n",
    "For example, inferential statistics can be used to determine if there is a significant difference in test scores between two groups of students or to estimate the average income of a population based on a sample."
   ]
  },
  {
   "cell_type": "markdown",
   "id": "2c0c8582-d627-424c-a850-59d642616e4f",
   "metadata": {},
   "source": [
    "Q10. What are some common measures of central tendency and variability used in statistics? Explain\n",
    "how each measure can be used to describe a dataset."
   ]
  },
  {
   "cell_type": "markdown",
   "id": "3bfc9b2f-e992-46ac-a662-376127fad713",
   "metadata": {},
   "source": [
    "Ans:--- \n",
    "\n",
    "Measures of Central Tendency:\n",
    "\n",
    "1)Mean:\n",
    "The mean is the average value of a dataset. It is calculated by summing all the values and dividing by the total number of observations. The mean represents the \"typical\" value and is influenced by extreme values. It is often used when the data is approximately symmetric and not heavily influenced by outliers.\n",
    "\n",
    "\n",
    "2)Median:\n",
    "The median is the middle value in a dataset when the observations are ordered from smallest to largest. If the number of observations is even, the median is the average of the two middle values. The median represents the \"middle\" value and is robust to extreme values. It is preferred when the data contains outliers or is skewed.\n",
    "\n",
    "\n",
    "3)Mode: \n",
    "The mode is the most frequently occurring value in a dataset. It represents the value(s) that appear with the highest frequency. The mode is useful for categorical or discrete data and can indicate the most common category or value.\n",
    "\n",
    "\n",
    "Measures of Variability:\n",
    "\n",
    "1)Range: \n",
    "The range is the difference between the maximum and minimum values in a dataset. It provides a simple measure of the spread or extent of the data. However, it is sensitive to outliers and does not consider the distribution of values within the dataset.\n",
    "\n",
    "\n",
    "2)Variance:\n",
    "The variance measures the average squared deviation from the mean. It quantifies the dispersion of values around the mean. A higher variance indicates greater variability in the data. It is widely used in statistical calculations but is influenced by outliers.\n",
    "\n",
    "\n",
    "3)Standard Deviation: \n",
    "The standard deviation is the square root of the variance. It measures the average deviation from the mean in the original units of the data. It is a commonly used measure of variability that is more interpretable than variance.\n",
    "\n",
    "\n",
    "\n",
    "\n",
    "\n",
    "\n"
   ]
  },
  {
   "cell_type": "code",
   "execution_count": null,
   "id": "0d2fbe52-5655-4dbb-a55c-b4d950562630",
   "metadata": {},
   "outputs": [],
   "source": []
  }
 ],
 "metadata": {
  "kernelspec": {
   "display_name": "Python 3 (ipykernel)",
   "language": "python",
   "name": "python3"
  },
  "language_info": {
   "codemirror_mode": {
    "name": "ipython",
    "version": 3
   },
   "file_extension": ".py",
   "mimetype": "text/x-python",
   "name": "python",
   "nbconvert_exporter": "python",
   "pygments_lexer": "ipython3",
   "version": "3.10.8"
  }
 },
 "nbformat": 4,
 "nbformat_minor": 5
}
